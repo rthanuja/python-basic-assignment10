{
 "cells": [
  {
   "cell_type": "code",
   "execution_count": null,
   "id": "6ded2564",
   "metadata": {},
   "outputs": [],
   "source": [
    "1. How do you distinguish between shutil.copy() and shutil.copytree()?\n",
    "\n",
    "shutil.copy() copies the contents of a source file to destination file or directory whereas shutil.copytree() recursively \n",
    "copies entire directory tree rooted at source to destination directory.\n",
    "In shutil.copy(),if the destination file doesn't exist a new file will be created.If it already exists, it will be \n",
    "replaced with the contents of the source file whereas in shutil.copytree(),the destination directory must not already\n",
    "exists. "
   ]
  },
  {
   "cell_type": "code",
   "execution_count": null,
   "id": "70864885",
   "metadata": {},
   "outputs": [],
   "source": [
    "2. What function is used to rename files??\n",
    "\n",
    "os.rename() function is used to rename files\n",
    "syntax:\n",
    "    os.rename(source,destination)\n",
    "If the file is not in the current working directory, then we need to pass the entire path of the file which we want to rename."
   ]
  },
  {
   "cell_type": "code",
   "execution_count": null,
   "id": "29d536a1",
   "metadata": {},
   "outputs": [],
   "source": [
    "3. What is the difference between the delete functions in the send2trash and shutil modules?\n",
    "\n",
    "The send2trash functions will move a file or folder to the recycle bin, while shutil functions will permanently delete\n",
    "files and folders."
   ]
  },
  {
   "cell_type": "code",
   "execution_count": null,
   "id": "5e863790",
   "metadata": {},
   "outputs": [],
   "source": [
    "4.ZipFile objects have a close() method just like File objects’ close() method. What ZipFile method is\n",
    "equivalent to File objects’ open() method?\n",
    "\n",
    "ZipFile object is made by calling ZipFile constructor which accepts ZipFile name and mode parameters.\n",
    "from zipfile import ZipFile\n",
    "with ZipFile(file,mode) as zip:\n",
    "    #code"
   ]
  },
  {
   "cell_type": "code",
   "execution_count": null,
   "id": "b48de28e",
   "metadata": {},
   "outputs": [],
   "source": [
    "5. Create a programme that searches a folder tree for files with a certain file extension (such as .pdf\n",
    "or .jpg). Copy these files from whatever location they are in to a new folder.\n",
    "\n",
    "import os, shutil, glob\n",
    "f='C:\\\\Users\\\\rthan\\\\Downloads'\n",
    "d='C:\\\\Users\\\\rthan\\\\copyfiles\\\\'\n",
    "os.chdir(f)\n",
    "files=glob.glob('*.pdf')\n",
    "for a in files:\n",
    "    shutil.copy(os.path.abspath(a),d)"
   ]
  }
 ],
 "metadata": {
  "kernelspec": {
   "display_name": "Python 3 (ipykernel)",
   "language": "python",
   "name": "python3"
  },
  "language_info": {
   "codemirror_mode": {
    "name": "ipython",
    "version": 3
   },
   "file_extension": ".py",
   "mimetype": "text/x-python",
   "name": "python",
   "nbconvert_exporter": "python",
   "pygments_lexer": "ipython3",
   "version": "3.10.9"
  }
 },
 "nbformat": 4,
 "nbformat_minor": 5
}
